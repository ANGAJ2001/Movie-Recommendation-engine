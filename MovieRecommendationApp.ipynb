{
 "cells": [
  {
   "cell_type": "code",
   "execution_count": 4,
   "id": "312953ba",
   "metadata": {},
   "outputs": [
    {
     "name": "stdout",
     "output_type": "stream",
     "text": [
      "Enter the movie (movie name is case sensitive) Alien\n",
      "Alien\n",
      "Aliens\n",
      "Alien³\n",
      "Moonraker\n",
      "Planet of the Apes\n",
      "Avatar\n",
      "Gravity\n",
      "Jason X\n",
      "The Helix... Loaded\n",
      "Alien: Resurrection\n",
      "The Thing\n",
      "Galaxy Quest\n",
      "Alien Zone\n",
      "Lifeforce\n",
      "Guardians of the Galaxy\n",
      "Spaceballs\n",
      "Silent Running\n",
      "Starship Troopers\n",
      "The Astronaut's Wife\n",
      "Soldier\n",
      "Cargo\n",
      "Wing Commander\n",
      "Elysium\n",
      "Event Horizon\n",
      "Oblivion\n",
      "Sunshine\n",
      "The Dead Zone\n",
      "Repo Man\n",
      "Titan A.E.\n",
      "AVP: Alien vs. Predator\n",
      "The Empire Strikes Back\n",
      "Rise of the Planet of the Apes\n",
      "Red Planet\n",
      "Aliens vs Predator: Requiem\n",
      "Lockout\n",
      "The Last Days on Mars\n",
      "Twilight Zone: The Movie\n",
      "They Live\n",
      "John Carter\n",
      "The Black Hole\n",
      "The Ice Pirates\n",
      "Star Wars: Clone Wars: Volume 1\n",
      "Contact\n",
      "Priest\n",
      "Blade Runner\n",
      "RoboCop 3\n",
      "Men in Black\n",
      "Hav Plenty\n",
      "Space Dogs\n",
      "Star Trek: Insurrection\n",
      "Impostor\n"
     ]
    }
   ],
   "source": [
    "import pandas as pd\n",
    "import numpy as np\n",
    "from sklearn.feature_extraction.text import CountVectorizer\n",
    "from sklearn.metrics.pairwise import cosine_similarity\n",
    "###### helper functions. Use them when needed \n",
    "def get_title_from_index(index):\n",
    "    return df[df.index == index][\"title\"].values[0]\n",
    "def get_index_from_title(title):\n",
    "    return df[df.title == title][\"index\"].values[0]\n",
    "#read csv file\n",
    "df = pd.read_csv('C:/Users/91861/Desktop/movie_dataset.csv')\n",
    "df1 = pd.DataFrame(df)\n",
    "#selct features\n",
    "features = ['keywords','cast','genres','director']\n",
    "#create a column in in the dataframe that comibines all selected features\n",
    "for feature in features:\n",
    "    df[feature]= df[feature].fillna('')\n",
    "def combine_features(row):\n",
    "    try:\n",
    "        return row['keywords']+\" \"+row['cast']+\" \"+row['genres']+\" \"+row['director'] \n",
    "    except:\n",
    "        print(\"Erorr\",row)\n",
    "df[\"combine_features\"] = df.apply(combine_features,axis = 1)\n",
    "#create count matrix from this new combined column\n",
    "cv = CountVectorizer()\n",
    "count_matrix = cv.fit_transform(df[\"combine_features\"])\n",
    "#compute the cosine similarity based on the count matrix\n",
    "cos_sim = cosine_similarity(count_matrix)\n",
    "#ask the user to enter the movie he wants to gets recommendations on\n",
    "movie_user_likes = input('Enter the movie (movie name is case sensitive) ')\n",
    "if movie_user_likes in list(df1['original_title']):\n",
    "        movie_index = get_index_from_title(movie_user_likes)\n",
    "        similar_movies = list(enumerate(cos_sim[movie_index]))\n",
    "        sorted_similar_movies = sorted(similar_movies,key = lambda x:x[1],reverse = True)\n",
    "        i=0\n",
    "        for movie in sorted_similar_movies:\n",
    "            print(get_title_from_index(movie[0]))\n",
    "            i = i+1\n",
    "            if(i>50):\n",
    "                break\n",
    "        \n",
    "else:\n",
    "    print('make sure you have entered the correct movie')\n",
    "\n",
    "\n",
    "\n",
    "\n",
    "\n"
   ]
  },
  {
   "cell_type": "code",
   "execution_count": 1,
   "id": "856243e4",
   "metadata": {},
   "outputs": [
    {
     "name": "stdout",
     "output_type": "stream",
     "text": [
      "C:\\Users\\91861\n"
     ]
    }
   ],
   "source": []
  },
  {
   "cell_type": "code",
   "execution_count": null,
   "id": "451b9d23",
   "metadata": {},
   "outputs": [],
   "source": []
  },
  {
   "cell_type": "code",
   "execution_count": null,
   "id": "823ce2bd",
   "metadata": {},
   "outputs": [],
   "source": []
  }
 ],
 "metadata": {
  "kernelspec": {
   "display_name": "Python 3",
   "language": "python",
   "name": "python3"
  },
  "language_info": {
   "codemirror_mode": {
    "name": "ipython",
    "version": 3
   },
   "file_extension": ".py",
   "mimetype": "text/x-python",
   "name": "python",
   "nbconvert_exporter": "python",
   "pygments_lexer": "ipython3",
   "version": "3.8.8"
  }
 },
 "nbformat": 4,
 "nbformat_minor": 5
}
